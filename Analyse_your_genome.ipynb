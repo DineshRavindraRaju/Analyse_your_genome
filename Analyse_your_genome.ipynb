{
  "nbformat": 4,
  "nbformat_minor": 0,
  "metadata": {
    "colab": {
      "provenance": [],
      "authorship_tag": "ABX9TyOaus+SQcO4aU70oIFgPUMI",
      "include_colab_link": true
    },
    "kernelspec": {
      "name": "python3",
      "display_name": "Python 3"
    },
    "language_info": {
      "name": "python"
    }
  },
  "cells": [
    {
      "cell_type": "markdown",
      "metadata": {
        "id": "view-in-github",
        "colab_type": "text"
      },
      "source": [
        "<a href=\"https://colab.research.google.com/github/DineshRavindraRaju/Analyse_your_genome/blob/main/Analyse_your_genome.ipynb\" target=\"_parent\"><img src=\"https://colab.research.google.com/assets/colab-badge.svg\" alt=\"Open In Colab\"/></a>"
      ]
    },
    {
      "cell_type": "code",
      "execution_count": 1,
      "metadata": {
        "id": "y1_vEMeQgYUI"
      },
      "outputs": [],
      "source": [
        "import sys\n",
        "import uuid\n",
        "import argparse\n",
        "import subprocess\n",
        "import os\n",
        "import subprocess\n",
        "from sys import exit\n",
        "from subprocess import PIPE, run\n",
        "import argparse\n",
        "from os import walk\n",
        "import shutil"
      ]
    },
    {
      "cell_type": "markdown",
      "source": [
        "Download the Refrence Datasets"
      ],
      "metadata": {
        "id": "f5Y7KaPjheJN"
      }
    },
    {
      "cell_type": "code",
      "source": [
        "!wget ftp://ftp.ensembl.org/pub/grch37/current/fasta/homo_sapiens/dna/Homo_sapiens.GRCh37.dna.primary_assembly.fa.gz\n",
        "!wget ftp://ftp.ensembl.org/pub/release-102/variation/vep/homo_sapiens_vep_102_GRCh38.tar.gz"
      ],
      "metadata": {
        "id": "TmK8ca-ehsll",
        "colab": {
          "base_uri": "https://localhost:8080/"
        },
        "outputId": "87dd7118-d7f9-4c5b-f110-e2d777f4b3fa"
      },
      "execution_count": 20,
      "outputs": [
        {
          "output_type": "stream",
          "name": "stdout",
          "text": [
            "--2023-03-26 18:25:56--  ftp://ftp.ensembl.org/pub/grch37/current/fasta/homo_sapiens/dna/Homo_sapiens.GRCh37.dna.primary_assembly.fa.gz\n",
            "           => ‘Homo_sapiens.GRCh37.dna.primary_assembly.fa.gz’\n",
            "Resolving ftp.ensembl.org (ftp.ensembl.org)... 193.62.193.139\n",
            "Connecting to ftp.ensembl.org (ftp.ensembl.org)|193.62.193.139|:21... connected.\n",
            "Logging in as anonymous ... Logged in!\n",
            "==> SYST ... done.    ==> PWD ... done.\n",
            "==> TYPE I ... done.  ==> CWD (1) /pub/grch37/current/fasta/homo_sapiens/dna ... done.\n",
            "==> SIZE Homo_sapiens.GRCh37.dna.primary_assembly.fa.gz ... 869923173\n",
            "==> PASV ... done.    ==> RETR Homo_sapiens.GRCh37.dna.primary_assembly.fa.gz ... done.\n",
            "Length: 869923173 (830M) (unauthoritative)\n",
            "\n",
            "Homo_sapiens.GRCh37 100%[===================>] 829.62M  36.0MB/s    in 25s     \n",
            "\n",
            "2023-03-26 18:26:22 (33.3 MB/s) - ‘Homo_sapiens.GRCh37.dna.primary_assembly.fa.gz’ saved [869923173]\n",
            "\n",
            "--2023-03-26 18:26:22--  ftp://ftp.ensembl.org/pub/release-102/variation/vep/homo_sapiens_vep_102_GRCh38.tar.gz\n",
            "           => ‘homo_sapiens_vep_102_GRCh38.tar.gz.1’\n",
            "Resolving ftp.ensembl.org (ftp.ensembl.org)... 193.62.193.139\n",
            "Connecting to ftp.ensembl.org (ftp.ensembl.org)|193.62.193.139|:21... connected.\n",
            "Logging in as anonymous ... Logged in!\n",
            "==> SYST ... done.    ==> PWD ... done.\n",
            "==> TYPE I ... done.  ==> CWD (1) /pub/release-102/variation/vep ... done.\n",
            "==> SIZE homo_sapiens_vep_102_GRCh38.tar.gz ... 14522644230\n",
            "==> PASV ... done.    ==> RETR homo_sapiens_vep_102_GRCh38.tar.gz ... done.\n",
            "Length: 14522644230 (14G) (unauthoritative)\n",
            "\n",
            "homo_sapiens_vep_10 100%[===================>]  13.52G  36.0MB/s    in 6m 33s  \n",
            "\n",
            "2023-03-26 18:32:56 (35.2 MB/s) - ‘homo_sapiens_vep_102_GRCh38.tar.gz.1’ saved [14522644230]\n",
            "\n"
          ]
        }
      ]
    },
    {
      "cell_type": "code",
      "source": [
        "###############################################################################\n",
        "# INSTALL CONDA ON GOOGLE COLAB\n",
        "################################################################################\n",
        "! wget https://repo.anaconda.com/miniconda/Miniconda3-py37_4.8.2-Linux-x86_64.sh\n",
        "! chmod +x Miniconda3-py37_4.8.2-Linux-x86_64.sh\n",
        "! bash ./Miniconda3-py37_4.8.2-Linux-x86_64.sh -b -f -p /usr/local\n",
        "import sys\n",
        "#sys.path.append('/usr/local/lib/python3.7/site-packages/')"
      ],
      "metadata": {
        "id": "ng4_-beVjHN2",
        "colab": {
          "base_uri": "https://localhost:8080/"
        },
        "outputId": "f0607a90-19d3-4a3b-e673-83cbc5a0b3e1"
      },
      "execution_count": 29,
      "outputs": [
        {
          "output_type": "stream",
          "name": "stdout",
          "text": [
            "--2023-03-26 18:36:27--  https://repo.anaconda.com/miniconda/Miniconda3-py37_4.8.2-Linux-x86_64.sh\n",
            "Resolving repo.anaconda.com (repo.anaconda.com)... 104.16.130.3, 104.16.131.3, 2606:4700::6810:8303, ...\n",
            "Connecting to repo.anaconda.com (repo.anaconda.com)|104.16.130.3|:443... connected.\n",
            "HTTP request sent, awaiting response... 200 OK\n",
            "Length: 85055499 (81M) [application/x-sh]\n",
            "Saving to: ‘Miniconda3-py37_4.8.2-Linux-x86_64.sh.2’\n",
            "\n",
            "\r          Miniconda   0%[                    ]       0  --.-KB/s               \r         Miniconda3  90%[=================>  ]  73.60M   368MB/s               \rMiniconda3-py37_4.8 100%[===================>]  81.12M   373MB/s    in 0.2s    \n",
            "\n",
            "2023-03-26 18:36:27 (373 MB/s) - ‘Miniconda3-py37_4.8.2-Linux-x86_64.sh.2’ saved [85055499/85055499]\n",
            "\n",
            "PREFIX=/usr/local\n",
            "Unpacking payload ...\n",
            "Collecting package metadata (current_repodata.json): - \b\b\\ \b\b| \b\b/ \b\b- \b\bdone\n",
            "Solving environment: | \b\b/ \b\b- \b\b\\ \b\b| \b\b/ \b\b- \b\b\\ \b\b| \b\b/ \b\bdone\n",
            "\n",
            "# All requested packages already installed.\n",
            "\n",
            "installation finished.\n",
            "WARNING:\n",
            "    You currently have a PYTHONPATH environment variable set. This may cause\n",
            "    unexpected behavior when running the Python interpreter in Miniconda3.\n",
            "    For best results, please verify that your PYTHONPATH only points to\n",
            "    directories of packages that are compatible with the Python interpreter\n",
            "    in Miniconda3: /usr/local\n"
          ]
        }
      ]
    },
    {
      "cell_type": "code",
      "source": [
        "!conda --version\n"
      ],
      "metadata": {
        "colab": {
          "base_uri": "https://localhost:8080/"
        },
        "id": "AxitHt0Fgsn8",
        "outputId": "c330a45f-1005-4f60-a890-9962c55791b6"
      },
      "execution_count": 30,
      "outputs": [
        {
          "output_type": "stream",
          "name": "stdout",
          "text": [
            "conda 4.8.2\n"
          ]
        }
      ]
    },
    {
      "cell_type": "code",
      "source": [
        "import sys\n",
        "sys.path"
      ],
      "metadata": {
        "id": "wG2f9UCPjiBk",
        "colab": {
          "base_uri": "https://localhost:8080/"
        },
        "outputId": "e95f1304-ea51-4ab9-89fa-c19d40ba06fb"
      },
      "execution_count": 31,
      "outputs": [
        {
          "output_type": "execute_result",
          "data": {
            "text/plain": [
              "['/content',\n",
              " '/env/python',\n",
              " '/usr/lib/python39.zip',\n",
              " '/usr/lib/python3.9',\n",
              " '/usr/lib/python3.9/lib-dynload',\n",
              " '',\n",
              " '/usr/local/lib/python3.9/dist-packages',\n",
              " '/usr/lib/python3/dist-packages',\n",
              " '/usr/local/lib/python3.9/dist-packages/IPython/extensions',\n",
              " '/root/.ipython',\n",
              " '/usr/local/lib/python3.7/site-packages/',\n",
              " '/usr/local/lib/python3.7/site-packages/']"
            ]
          },
          "metadata": {},
          "execution_count": 31
        }
      ]
    },
    {
      "cell_type": "code",
      "source": [
        "from google.colab import drive\n",
        "drive.mount('/content/drive')"
      ],
      "metadata": {
        "id": "5OvO2lXwI-_7",
        "colab": {
          "base_uri": "https://localhost:8080/"
        },
        "outputId": "4549a9d9-ca1e-4f4d-c0a8-63a3ecf1d232"
      },
      "execution_count": 32,
      "outputs": [
        {
          "output_type": "stream",
          "name": "stdout",
          "text": [
            "Drive already mounted at /content/drive; to attempt to forcibly remount, call drive.mount(\"/content/drive\", force_remount=True).\n"
          ]
        }
      ]
    },
    {
      "cell_type": "markdown",
      "source": [
        "Convert 23andme and Ancestry Files to VCF"
      ],
      "metadata": {
        "id": "81cK1j04GK69"
      }
    },
    {
      "cell_type": "code",
      "source": [
        "!conda install -c bioconda  bcftools --yes"
      ],
      "metadata": {
        "id": "XR9nW2xJGKYs",
        "colab": {
          "base_uri": "https://localhost:8080/"
        },
        "outputId": "1c3f6279-d78b-4b8c-9e37-13d821763b2d"
      },
      "execution_count": 35,
      "outputs": [
        {
          "output_type": "stream",
          "name": "stdout",
          "text": [
            "Collecting package metadata (current_repodata.json): - \b\b\\ \b\b| \b\b/ \b\b- \b\b\\ \b\b| \b\b/ \b\b- \b\b\\ \b\b| \b\b/ \b\b- \b\b\\ \b\b| \b\b/ \b\b- \b\b\\ \b\b| \b\b/ \b\b- \b\b\\ \b\b| \b\b/ \b\b- \b\b\\ \b\b| \b\b/ \b\b- \b\b\\ \b\b| \b\b/ \b\b- \b\b\\ \b\b| \b\b/ \b\b- \b\b\\ \b\b| \b\bdone\n",
            "Solving environment: - \b\b\\ \b\b| \b\b/ \b\b- \b\b\\ \b\b| \b\b/ \b\b- \b\b\\ \b\b| \b\b/ \b\b- \b\b\\ \b\b| \b\bdone\n",
            "\n",
            "\n",
            "==> WARNING: A newer version of conda exists. <==\n",
            "  current version: 4.8.2\n",
            "  latest version: 23.1.0\n",
            "\n",
            "Please update conda by running\n",
            "\n",
            "    $ conda update -n base -c defaults conda\n",
            "\n",
            "\n",
            "\n",
            "## Package Plan ##\n",
            "\n",
            "  environment location: /usr/local\n",
            "\n",
            "  added / updated specs:\n",
            "    - bcftools\n",
            "\n",
            "\n",
            "The following packages will be downloaded:\n",
            "\n",
            "    package                    |            build\n",
            "    ---------------------------|-----------------\n",
            "    _openmp_mutex-5.1          |            1_gnu          21 KB\n",
            "    bcftools-1.9               |       ha228f0b_4         807 KB  bioconda\n",
            "    bzip2-1.0.8                |       h7b6447c_0          78 KB\n",
            "    c-ares-1.19.0              |       h5eee18b_0         118 KB\n",
            "    ca-certificates-2023.01.10 |       h06a4308_0         120 KB\n",
            "    certifi-2022.12.7          |   py37h06a4308_0         150 KB\n",
            "    curl-7.88.1                |       h5eee18b_0          88 KB\n",
            "    krb5-1.19.4                |       h568e23c_0         1.3 MB\n",
            "    libcurl-7.88.1             |       h91b91d3_0         383 KB\n",
            "    libdeflate-1.0             |       h14c3975_1          43 KB  bioconda\n",
            "    libedit-3.1.20221030       |       h5eee18b_0         181 KB\n",
            "    libev-4.33                 |       h7f8727e_1         111 KB\n",
            "    libgcc-ng-11.2.0           |       h1234567_1         5.3 MB\n",
            "    libgomp-11.2.0             |       h1234567_1         474 KB\n",
            "    libnghttp2-1.46.0          |       hce63b2e_0         680 KB\n",
            "    libssh2-1.10.0             |       h8f2d780_0         274 KB\n",
            "    ncurses-6.4                |       h6a678d5_0         914 KB\n",
            "    openssl-1.1.1t             |       h7f8727e_0         3.7 MB\n",
            "    zlib-1.2.13                |       h5eee18b_0         103 KB\n",
            "    ------------------------------------------------------------\n",
            "                                           Total:        14.9 MB\n",
            "\n",
            "The following NEW packages will be INSTALLED:\n",
            "\n",
            "  _openmp_mutex      pkgs/main/linux-64::_openmp_mutex-5.1-1_gnu\n",
            "  bcftools           bioconda/linux-64::bcftools-1.9-ha228f0b_4\n",
            "  bzip2              pkgs/main/linux-64::bzip2-1.0.8-h7b6447c_0\n",
            "  c-ares             pkgs/main/linux-64::c-ares-1.19.0-h5eee18b_0\n",
            "  curl               pkgs/main/linux-64::curl-7.88.1-h5eee18b_0\n",
            "  krb5               pkgs/main/linux-64::krb5-1.19.4-h568e23c_0\n",
            "  libcurl            pkgs/main/linux-64::libcurl-7.88.1-h91b91d3_0\n",
            "  libdeflate         bioconda/linux-64::libdeflate-1.0-h14c3975_1\n",
            "  libev              pkgs/main/linux-64::libev-4.33-h7f8727e_1\n",
            "  libgomp            pkgs/main/linux-64::libgomp-11.2.0-h1234567_1\n",
            "  libnghttp2         pkgs/main/linux-64::libnghttp2-1.46.0-hce63b2e_0\n",
            "  libssh2            pkgs/main/linux-64::libssh2-1.10.0-h8f2d780_0\n",
            "\n",
            "The following packages will be UPDATED:\n",
            "\n",
            "  ca-certificates                                2020.1.1-0 --> 2023.01.10-h06a4308_0\n",
            "  certifi                                 2019.11.28-py37_0 --> 2022.12.7-py37h06a4308_0\n",
            "  libedit                           3.1.20181209-hc058e9b_0 --> 3.1.20221030-h5eee18b_0\n",
            "  libgcc-ng                                9.1.0-hdf63c60_0 --> 11.2.0-h1234567_1\n",
            "  ncurses                                    6.2-he6710b0_0 --> 6.4-h6a678d5_0\n",
            "  openssl                                 1.1.1d-h7b6447c_4 --> 1.1.1t-h7f8727e_0\n",
            "  zlib                                    1.2.11-h7b6447c_3 --> 1.2.13-h5eee18b_0\n",
            "\n",
            "\n",
            "\n",
            "Downloading and Extracting Packages\n",
            "_openmp_mutex-5.1    | 21 KB     | : 100% 1.0/1 [00:00<00:00, 11.31it/s]\n",
            "ca-certificates-2023 | 120 KB    | : 100% 1.0/1 [00:00<00:00, 23.01it/s]\n",
            "krb5-1.19.4          | 1.3 MB    | : 100% 1.0/1 [00:00<00:00, 13.10it/s]\n",
            "c-ares-1.19.0        | 118 KB    | : 100% 1.0/1 [00:00<00:00, 18.15it/s]\n",
            "libev-4.33           | 111 KB    | : 100% 1.0/1 [00:00<00:00, 18.04it/s]\n",
            "openssl-1.1.1t       | 3.7 MB    | : 100% 1.0/1 [00:00<00:00,  8.85it/s]\n",
            "ncurses-6.4          | 914 KB    | : 100% 1.0/1 [00:00<00:00,  4.91it/s]\n",
            "certifi-2022.12.7    | 150 KB    | : 100% 1.0/1 [00:00<00:00, 20.28it/s]\n",
            "bcftools-1.9         | 807 KB    | : 100% 1.0/1 [00:00<00:00,  4.97it/s]\n",
            "libdeflate-1.0       | 43 KB     | : 100% 1.0/1 [00:00<00:00, 30.03it/s]\n",
            "curl-7.88.1          | 88 KB     | : 100% 1.0/1 [00:00<00:00, 23.10it/s]\n",
            "libgomp-11.2.0       | 474 KB    | : 100% 1.0/1 [00:00<00:00, 19.09it/s]\n",
            "libedit-3.1.20221030 | 181 KB    | : 100% 1.0/1 [00:00<00:00, 25.03it/s]\n",
            "zlib-1.2.13          | 103 KB    | : 100% 1.0/1 [00:00<00:00, 25.20it/s]\n",
            "libcurl-7.88.1       | 383 KB    | : 100% 1.0/1 [00:00<00:00, 19.96it/s]\n",
            "libgcc-ng-11.2.0     | 5.3 MB    | : 100% 1.0/1 [00:00<00:00,  6.65it/s]\n",
            "libssh2-1.10.0       | 274 KB    | : 100% 1.0/1 [00:00<00:00, 16.65it/s]\n",
            "bzip2-1.0.8          | 78 KB     | : 100% 1.0/1 [00:00<00:00, 21.47it/s]\n",
            "libnghttp2-1.46.0    | 680 KB    | : 100% 1.0/1 [00:00<00:00, 19.03it/s]\n",
            "Preparing transaction: - \b\b\\ \b\bdone\n",
            "Verifying transaction: / \b\b- \b\b\\ \b\b| \b\b/ \b\bdone\n",
            "Executing transaction: \\ \b\b| \b\b/ \b\b- \b\bdone\n"
          ]
        }
      ]
    },
    {
      "cell_type": "code",
      "source": [
        "!gunzip Homo_sapiens.GRCh37.dna.primary_assembly.fa.gz"
      ],
      "metadata": {
        "id": "ZI8-vNMvKbaL",
        "colab": {
          "base_uri": "https://localhost:8080/"
        },
        "outputId": "8d5eb9d6-ddc8-4c58-e36e-6fad0e5ac1cb"
      },
      "execution_count": 36,
      "outputs": [
        {
          "output_type": "stream",
          "name": "stdout",
          "text": [
            "gzip: Homo_sapiens.GRCh37.dna.primary_assembly.fa already exists; do you wish to overwrite (y or n)? n\n",
            "\tnot overwritten\n"
          ]
        }
      ]
    },
    {
      "cell_type": "markdown",
      "source": [
        "Converts the txt file to VCF format you can download the vcf file and upload it to VEP to analyse it "
      ],
      "metadata": {
        "id": "j3yJzhlT69NJ"
      }
    },
    {
      "cell_type": "code",
      "source": [
        "!bcftools convert --tsv2vcf /content/AncestryDNA.txt -f /content/Homo_sapiens.GRCh37.dna.primary_assembly.fa -s Ancestry -Ob -o /content/AncestryDNA.bcf\n",
        "!bcftools view /content/AncestryDNA.bcf > /content/AncestryDNA.vcf"
      ],
      "metadata": {
        "id": "lhrJtcghg0ms",
        "colab": {
          "base_uri": "https://localhost:8080/"
        },
        "outputId": "576dcba5-2b0a-4def-e213-43fb05e53db1"
      },
      "execution_count": 37,
      "outputs": [
        {
          "output_type": "stream",
          "name": "stdout",
          "text": [
            "Rows total: \t664430\n",
            "Rows skipped: \t34280\n",
            "Missing GTs: \t0\n",
            "Hom RR: \t0\n",
            "Het RA: \t415313\n",
            "Hom AA: \t679\n",
            "Het AA: \t214158\n"
          ]
        }
      ]
    },
    {
      "cell_type": "code",
      "source": [
        "!pip install panno==0.3.1"
      ],
      "metadata": {
        "id": "f8YTuLewLMm6",
        "colab": {
          "base_uri": "https://localhost:8080/"
        },
        "outputId": "290a3fef-ea68-4104-b309-5742170b1b95"
      },
      "execution_count": 38,
      "outputs": [
        {
          "output_type": "stream",
          "name": "stdout",
          "text": [
            "Looking in indexes: https://pypi.org/simple, https://us-python.pkg.dev/colab-wheels/public/simple/\n",
            "Requirement already satisfied: panno==0.3.1 in /usr/local/lib/python3.7/site-packages (0.3.1)\n",
            "Requirement already satisfied: numpy in /usr/local/lib/python3.7/site-packages (from panno==0.3.1) (1.21.6)\n",
            "Requirement already satisfied: pandas in /usr/local/lib/python3.7/site-packages (from panno==0.3.1) (1.3.5)\n",
            "Requirement already satisfied: pyranges in /usr/local/lib/python3.7/site-packages (from panno==0.3.1) (0.0.120)\n",
            "Requirement already satisfied: pytz>=2017.3 in /usr/local/lib/python3.7/site-packages (from pandas->panno==0.3.1) (2023.2)\n",
            "Requirement already satisfied: python-dateutil>=2.7.3 in /usr/local/lib/python3.7/site-packages (from pandas->panno==0.3.1) (2.8.2)\n",
            "Requirement already satisfied: ncls>=0.0.63 in /usr/local/lib/python3.7/site-packages (from pyranges->panno==0.3.1) (0.0.66)\n",
            "Requirement already satisfied: natsort in /usr/local/lib/python3.7/site-packages (from pyranges->panno==0.3.1) (8.3.1)\n",
            "Requirement already satisfied: tabulate in /usr/local/lib/python3.7/site-packages (from pyranges->panno==0.3.1) (0.9.0)\n",
            "Requirement already satisfied: sorted-nearest>=0.0.33 in /usr/local/lib/python3.7/site-packages (from pyranges->panno==0.3.1) (0.0.38)\n",
            "Requirement already satisfied: cython in /usr/local/lib/python3.7/site-packages (from pyranges->panno==0.3.1) (0.29.33)\n",
            "Requirement already satisfied: pyrle in /usr/local/lib/python3.7/site-packages (from pyranges->panno==0.3.1) (0.0.35)\n",
            "Requirement already satisfied: six>=1.5 in /usr/local/lib/python3.7/site-packages (from python-dateutil>=2.7.3->pandas->panno==0.3.1) (1.14.0)\n"
          ]
        }
      ]
    },
    {
      "cell_type": "code",
      "source": [
        "!panno -s Ancestry -i /content/AncestryDNA.vcf -p EUR -o /content/"
      ],
      "metadata": {
        "id": "aHGOUDxqLM7p",
        "colab": {
          "base_uri": "https://localhost:8080/"
        },
        "outputId": "89f18e60-477e-44a1-da4d-783f7d161093"
      },
      "execution_count": 39,
      "outputs": [
        {
          "output_type": "stream",
          "name": "stdout",
          "text": [
            "\n",
            "Parsing PGx related diplotypes ...\n",
            "Annotating clinical information ...\n",
            "Generating PAnno report ...\n",
            "\n",
            "Your PAnno report has been completed and is located at /content/Ancestry.PAnno.html.\n",
            "\n",
            "     ^ _ ^\n",
            "\n",
            "\n"
          ]
        }
      ]
    },
    {
      "cell_type": "code",
      "source": [
        "import numpy as np\n",
        "import pandas as pd\n",
        "import matplotlib.pyplot as plt\n",
        "import seaborn as sns"
      ],
      "metadata": {
        "id": "tvEln5B90RNQ"
      },
      "execution_count": 40,
      "outputs": []
    },
    {
      "cell_type": "code",
      "source": [
        "df=pd.read_csv('/content/AncestryDNA.vcf', sep=\"\\t\", comment='#',names=[\"CHROM\",\"POS\",\"ID\",\"REF\",\"ALT\",\"QUAL\",\"FILTER\",\"INFO\",\"FORMAT\",\"Ancestry\"])\n",
        "rs_ids=list(df[\"ID\"].head(10000))\n",
        "print(rs_ids[0:100])"
      ],
      "metadata": {
        "colab": {
          "base_uri": "https://localhost:8080/"
        },
        "id": "LrquwcxvzPdl",
        "outputId": "c56f2469-7281-41c1-bd46-6ebdb2dc3e1c"
      },
      "execution_count": 41,
      "outputs": [
        {
          "output_type": "stream",
          "name": "stdout",
          "text": [
            "['rs369202065', 'rs199476136', 'rs3131972', 'rs114525117', 'rs12124819', 'rs4040617', 'rs141175086', 'rs115093905', 'rs11240777', 'rs6681049', 'rs4422948', 'rs57494724', 'rs4475691', 'rs6657440', 'rs4970461', 'rs13302982', 'rs2880024', 'rs74047407', 'rs1110052', 'rs2272756', 'rs3748597', 'rs13302957', 'rs13303106', 'rs13303010', 'rs200468119', 'rs6696281', 'rs28391282', 'rs28504611', 'rs28477686', 'rs6660139', 'rs13303118', 'rs2341354', 'rs4970414', 'rs116781904', 'rs78164078', 'rs6665000', 'rs2341362', 'rs9777703', 'rs1891910', 'rs35940137', 'rs3128117', 'rs2465126', 'rs2341365', 'rs786201005', 'rs8997', 'rs672601312', 'rs6657048', 'rs3128126', 'rs2488993', 'rs587777299', 'rs2710875', 'rs143324306', 'rs2465128', 'rs150132566', 'rs536657086', 'rs9442391', 'rs2275813', 'rs2275811', 'rs17160775', 'rs17160776', 'rs199476396', 'rs587777298', 'rs144245019', 'rs763818876', 'rs9803031', 'rs4275402', 'rs2465136', 'rs9331226', 'rs2488991', 'rs3766192', 'rs3766191', 'rs9442372', 'rs10907177', 'rs3737728', 'rs9442400', 'rs6687776', 'rs6671356', 'rs7548798', 'rs9442373', 'rs4970413', 'rs4072537', 'rs10907182', 'rs9442358', 'rs11260603', 'rs6686003', 'rs4970362', 'rs61768477', 'rs9442385', 'rs1891905', 'rs6670693', 'rs4970420', 'rs72894004', 'rs11260542', 'rs61768483', 'rs9442387', 'rs1320565', 'rs1320571', 'rs3813204', 'rs11260549', 'rs10907175']\n"
          ]
        }
      ]
    },
    {
      "cell_type": "code",
      "source": [
        "import requests, sys\n",
        " \n",
        "df_all = pd.DataFrame()\n",
        "df_alls = pd.DataFrame()\n",
        "\n",
        "for id in rs_ids:\n",
        "  server = \"http://rest.ensembl.org\"\n",
        "  ext = f'/variation/human/{id}?'\n",
        "  r = requests.get(server+ext, headers={ \"Content-Type\" : \"application/json\"})\n",
        " \n",
        " \n",
        "  if not r.ok:\n",
        "    r.raise_for_status()\n",
        "    sys.exit()\n",
        " \n",
        "  decoded = r.json()\n",
        "  df_all=pd.json_normalize(decoded)\n",
        "  df_alls=pd.DataFrame.from_dict(pd.concat([df_alls, df_all], sort=False))\n",
        "  #print(repr(decoded))\n",
        "\n",
        "#print(df_alls)\n",
        "rs_i=df_alls[[\"name\",\"most_severe_consequence\"]]\n",
        "\n"
      ],
      "metadata": {
        "id": "7UZ5C0EJsDrj"
      },
      "execution_count": 42,
      "outputs": []
    },
    {
      "cell_type": "markdown",
      "source": [
        "Sorting out the varaints"
      ],
      "metadata": {
        "id": "xYeyEPbn2oJY"
      }
    },
    {
      "cell_type": "code",
      "source": [
        "#print(rs_i.head(5))\n",
        "Putative_impact=rs_i.groupby('most_severe_consequence')['name'].apply(list).reset_index()\n",
        "#print(Putative_impact.head(50))\n",
        "word_freq ={'chromosome_number_variation':'high','exon_loss_variant':'high','frameshift_variant':'high','stop_lost':'high','stop_gained':'high','start_lost':'high','splice_acceptor_variant':'high','splice_donor_variant':'high'}\n",
        "Putative_impact['impact'] = Putative_impact[\"most_severe_consequence\"].map(word_freq)\n",
        "print(Putative_impact.head(20))\n",
        "#print(type(Putative_impact))"
      ],
      "metadata": {
        "id": "FfkfWuaFXQX9"
      },
      "execution_count": 153,
      "outputs": []
    },
    {
      "cell_type": "markdown",
      "source": [
        "info about the High Varaints"
      ],
      "metadata": {
        "id": "ZGVBt5yP3gCQ"
      }
    },
    {
      "cell_type": "code",
      "source": [
        "print(Putative_impact.loc[Putative_impact['impact'] == 'high',:])"
      ],
      "metadata": {
        "colab": {
          "base_uri": "https://localhost:8080/"
        },
        "id": "w49UjX9p2yyr",
        "outputId": "b6253625-9be3-455a-bce5-99f56a6507c1"
      },
      "execution_count": 174,
      "outputs": [
        {
          "output_type": "stream",
          "name": "stdout",
          "text": [
            "    most_severe_consequence  \\\n",
            "8   splice_acceptor_variant   \n",
            "11     splice_donor_variant   \n",
            "14               start_lost   \n",
            "15              stop_gained   \n",
            "16                stop_lost   \n",
            "\n",
            "                                                 name impact  \n",
            "8   [rs869025278, rs144750655, rs2233004, rs786201...   high  \n",
            "11  [rs869312935, rs869025276, rs1281013, rs786204...   high  \n",
            "14                         [rs869312825, rs137853206]   high  \n",
            "15  [rs786201005, rs672601312, rs587777299, rs1886...   high  \n",
            "16                         [rs387907290, rs768434408]   high  \n"
          ]
        }
      ]
    },
    {
      "cell_type": "markdown",
      "source": [
        "Push it to the github"
      ],
      "metadata": {
        "id": "Y8-Y7oHw4Ui7"
      }
    },
    {
      "cell_type": "code",
      "source": [],
      "metadata": {
        "id": "50vFD9Dk3u6R"
      },
      "execution_count": 173,
      "outputs": []
    }
  ]
}